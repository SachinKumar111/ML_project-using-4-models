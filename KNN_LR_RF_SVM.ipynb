{
  "nbformat": 4,
  "nbformat_minor": 0,
  "metadata": {
    "kernelspec": {
      "display_name": "Python 3",
      "language": "python",
      "name": "python3"
    },
    "language_info": {
      "codemirror_mode": {
        "name": "ipython",
        "version": 3
      },
      "file_extension": ".py",
      "mimetype": "text/x-python",
      "name": "python",
      "nbconvert_exporter": "python",
      "pygments_lexer": "ipython3",
      "version": "3.7.3"
    },
    "colab": {
      "name": "KNN_LR_RF_SVM.ipynb",
      "provenance": []
    }
  },
  "cells": [
    {
      "cell_type": "markdown",
      "metadata": {
        "collapsed": true,
        "id": "sWrhrx72mr6A",
        "colab_type": "text"
      },
      "source": [
        "# Part 1: Understanding the data"
      ]
    },
    {
      "cell_type": "code",
      "metadata": {
        "id": "F4w_G702mr6B",
        "colab_type": "code",
        "colab": {}
      },
      "source": [
        "The aim of this project is to understand the human actions and combine users and social context with computers.\n",
        "\n",
        "Activities include standing, sitting, laying down, walking, walking downstairs or upstairs. \n",
        "30 volunteers aged between 19 to 48 years were selected for this task.\n",
        "\n",
        "10299 instances are in the dataset. There are 7352 instances in training dataset and 2947 instances in the testing dataset.\n",
        "561 features were used to represent each instance.\n",
        "\n",
        "\n"
      ],
      "execution_count": null,
      "outputs": []
    },
    {
      "cell_type": "code",
      "metadata": {
        "id": "uvaao8anmr6F",
        "colab_type": "code",
        "colab": {}
      },
      "source": [
        "import warnings\n",
        "warnings.filterwarnings('ignore')"
      ],
      "execution_count": null,
      "outputs": []
    },
    {
      "cell_type": "code",
      "metadata": {
        "id": "leikwFfQmr6J",
        "colab_type": "code",
        "colab": {}
      },
      "source": [
        "import pandas as pd\n",
        "import numpy as np\n",
        "import matplotlib.pyplot as plt\n",
        "from sklearn.metrics import accuracy_score\n",
        "from sklearn.model_selection import GridSearchCV\n",
        "from sklearn.metrics import precision_score\n",
        "from sklearn.ensemble import RandomForestClassifier\n",
        "import numpy as np\n",
        "from mpl_toolkits.mplot3d import Axes3D  \n",
        "import matplotlib.pyplot as plt\n",
        "import random\n",
        "from sklearn.linear_model import LogisticRegression\n",
        "from sklearn.linear_model import SGDClassifier\n",
        "from sklearn.metrics import f1_score\n",
        "from sklearn.neighbors import KNeighborsClassifier\n",
        "from sklearn.model_selection import StratifiedKFold\n",
        "from sklearn.metrics import confusion_matrix"
      ],
      "execution_count": null,
      "outputs": []
    },
    {
      "cell_type": "code",
      "metadata": {
        "id": "Ks5u3QU9mr6N",
        "colab_type": "code",
        "colab": {},
        "outputId": "0c760f60-ebd0-4147-de9a-0646a3fa3985"
      },
      "source": [
        "XTrain= pd.read_table('train\\X_train.txt', delim_whitespace=True,header=None)\n",
        "yTrain= pd.read_table('train\\y_train.txt', delim_whitespace=True,header=None)\n",
        "XTest = pd.read_csv('test\\X_test.txt',delim_whitespace=True,header=None)\n",
        "yTest = pd.read_csv('test\\y_test.txt',delim_whitespace=True,header=None)\n",
        "\n"
      ],
      "execution_count": null,
      "outputs": [
        {
          "output_type": "stream",
          "text": [
            "C:\\ProgramData\\Anaconda3\\lib\\site-packages\\ipykernel_launcher.py:1: FutureWarning: read_table is deprecated, use read_csv instead, passing sep='\\t'.\n",
            "  \"\"\"Entry point for launching an IPython kernel.\n",
            "C:\\ProgramData\\Anaconda3\\lib\\site-packages\\ipykernel_launcher.py:2: FutureWarning: read_table is deprecated, use read_csv instead, passing sep='\\t'.\n",
            "  \n"
          ],
          "name": "stderr"
        }
      ]
    },
    {
      "cell_type": "markdown",
      "metadata": {
        "id": "Rd6fiK1_mr6Q",
        "colab_type": "text"
      },
      "source": [
        "# Part 2: K-Nearest Neighbour Classification"
      ]
    },
    {
      "cell_type": "code",
      "metadata": {
        "id": "jjIU9Srkmr6R",
        "colab_type": "code",
        "colab": {},
        "outputId": "4c117dd9-5e78-4d2b-b479-17ad0762b25a"
      },
      "source": [
        "from sklearn import neighbors\n",
        "Accuracy_knn = np.array([])\n",
        "k = list(range(1,50))\n",
        "for i in k:                            #iterating through different k values\n",
        "    knn = neighbors.KNeighborsClassifier(n_neighbors=i)\n",
        "    knn.fit(XTrain,yTrain)\n",
        "    predicted_knn = knn.predict(XTest)\n",
        "    Accuracy = accuracy_score(yTest, predicted_knn)\n",
        "    Accuracy_knn = np.append(Accuracy_knn, Accuracy)\n",
        "    print(Accuracy_knn)\n",
        "    "
      ],
      "execution_count": null,
      "outputs": [
        {
          "output_type": "stream",
          "text": [
            "C:\\ProgramData\\Anaconda3\\lib\\site-packages\\ipykernel_launcher.py:6: DataConversionWarning: A column-vector y was passed when a 1d array was expected. Please change the shape of y to (n_samples, ), for example using ravel().\n",
            "  \n"
          ],
          "name": "stderr"
        },
        {
          "output_type": "stream",
          "text": [
            "[0.87852053]\n"
          ],
          "name": "stdout"
        },
        {
          "output_type": "stream",
          "text": [
            "C:\\ProgramData\\Anaconda3\\lib\\site-packages\\ipykernel_launcher.py:6: DataConversionWarning: A column-vector y was passed when a 1d array was expected. Please change the shape of y to (n_samples, ), for example using ravel().\n",
            "  \n"
          ],
          "name": "stderr"
        },
        {
          "output_type": "stream",
          "text": [
            "[0.87852053 0.86121479]\n"
          ],
          "name": "stdout"
        },
        {
          "output_type": "stream",
          "text": [
            "C:\\ProgramData\\Anaconda3\\lib\\site-packages\\ipykernel_launcher.py:6: DataConversionWarning: A column-vector y was passed when a 1d array was expected. Please change the shape of y to (n_samples, ), for example using ravel().\n",
            "  \n"
          ],
          "name": "stderr"
        },
        {
          "output_type": "stream",
          "text": [
            "[0.87852053 0.86121479 0.89073634]\n"
          ],
          "name": "stdout"
        },
        {
          "output_type": "stream",
          "text": [
            "C:\\ProgramData\\Anaconda3\\lib\\site-packages\\ipykernel_launcher.py:6: DataConversionWarning: A column-vector y was passed when a 1d array was expected. Please change the shape of y to (n_samples, ), for example using ravel().\n",
            "  \n"
          ],
          "name": "stderr"
        },
        {
          "output_type": "stream",
          "text": [
            "[0.87852053 0.86121479 0.89073634 0.89107567]\n"
          ],
          "name": "stdout"
        },
        {
          "output_type": "stream",
          "text": [
            "C:\\ProgramData\\Anaconda3\\lib\\site-packages\\ipykernel_launcher.py:6: DataConversionWarning: A column-vector y was passed when a 1d array was expected. Please change the shape of y to (n_samples, ), for example using ravel().\n",
            "  \n"
          ],
          "name": "stderr"
        },
        {
          "output_type": "stream",
          "text": [
            "[0.87852053 0.86121479 0.89073634 0.89107567 0.90159484]\n"
          ],
          "name": "stdout"
        },
        {
          "output_type": "stream",
          "text": [
            "C:\\ProgramData\\Anaconda3\\lib\\site-packages\\ipykernel_launcher.py:6: DataConversionWarning: A column-vector y was passed when a 1d array was expected. Please change the shape of y to (n_samples, ), for example using ravel().\n",
            "  \n"
          ],
          "name": "stderr"
        },
        {
          "output_type": "stream",
          "text": [
            "[0.87852053 0.86121479 0.89073634 0.89107567 0.90159484 0.90125551]\n"
          ],
          "name": "stdout"
        },
        {
          "output_type": "stream",
          "text": [
            "C:\\ProgramData\\Anaconda3\\lib\\site-packages\\ipykernel_launcher.py:6: DataConversionWarning: A column-vector y was passed when a 1d array was expected. Please change the shape of y to (n_samples, ), for example using ravel().\n",
            "  \n"
          ],
          "name": "stderr"
        },
        {
          "output_type": "stream",
          "text": [
            "[0.87852053 0.86121479 0.89073634 0.89107567 0.90159484 0.90125551\n",
            " 0.90329148]\n"
          ],
          "name": "stdout"
        },
        {
          "output_type": "stream",
          "text": [
            "C:\\ProgramData\\Anaconda3\\lib\\site-packages\\ipykernel_launcher.py:6: DataConversionWarning: A column-vector y was passed when a 1d array was expected. Please change the shape of y to (n_samples, ), for example using ravel().\n",
            "  \n"
          ],
          "name": "stderr"
        },
        {
          "output_type": "stream",
          "text": [
            "[0.87852053 0.86121479 0.89073634 0.89107567 0.90159484 0.90125551\n",
            " 0.90329148 0.90736342]\n"
          ],
          "name": "stdout"
        },
        {
          "output_type": "stream",
          "text": [
            "C:\\ProgramData\\Anaconda3\\lib\\site-packages\\ipykernel_launcher.py:6: DataConversionWarning: A column-vector y was passed when a 1d array was expected. Please change the shape of y to (n_samples, ), for example using ravel().\n",
            "  \n"
          ],
          "name": "stderr"
        },
        {
          "output_type": "stream",
          "text": [
            "[0.87852053 0.86121479 0.89073634 0.89107567 0.90159484 0.90125551\n",
            " 0.90329148 0.90736342 0.90532745]\n"
          ],
          "name": "stdout"
        },
        {
          "output_type": "stream",
          "text": [
            "C:\\ProgramData\\Anaconda3\\lib\\site-packages\\ipykernel_launcher.py:6: DataConversionWarning: A column-vector y was passed when a 1d array was expected. Please change the shape of y to (n_samples, ), for example using ravel().\n",
            "  \n"
          ],
          "name": "stderr"
        },
        {
          "output_type": "stream",
          "text": [
            "[0.87852053 0.86121479 0.89073634 0.89107567 0.90159484 0.90125551\n",
            " 0.90329148 0.90736342 0.90532745 0.90668476]\n"
          ],
          "name": "stdout"
        },
        {
          "output_type": "stream",
          "text": [
            "C:\\ProgramData\\Anaconda3\\lib\\site-packages\\ipykernel_launcher.py:6: DataConversionWarning: A column-vector y was passed when a 1d array was expected. Please change the shape of y to (n_samples, ), for example using ravel().\n",
            "  \n"
          ],
          "name": "stderr"
        },
        {
          "output_type": "stream",
          "text": [
            "[0.87852053 0.86121479 0.89073634 0.89107567 0.90159484 0.90125551\n",
            " 0.90329148 0.90736342 0.90532745 0.90668476 0.9046488 ]\n"
          ],
          "name": "stdout"
        },
        {
          "output_type": "stream",
          "text": [
            "C:\\ProgramData\\Anaconda3\\lib\\site-packages\\ipykernel_launcher.py:6: DataConversionWarning: A column-vector y was passed when a 1d array was expected. Please change the shape of y to (n_samples, ), for example using ravel().\n",
            "  \n"
          ],
          "name": "stderr"
        },
        {
          "output_type": "stream",
          "text": [
            "[0.87852053 0.86121479 0.89073634 0.89107567 0.90159484 0.90125551\n",
            " 0.90329148 0.90736342 0.90532745 0.90668476 0.9046488  0.90295215]\n"
          ],
          "name": "stdout"
        },
        {
          "output_type": "stream",
          "text": [
            "C:\\ProgramData\\Anaconda3\\lib\\site-packages\\ipykernel_launcher.py:6: DataConversionWarning: A column-vector y was passed when a 1d array was expected. Please change the shape of y to (n_samples, ), for example using ravel().\n",
            "  \n"
          ],
          "name": "stderr"
        },
        {
          "output_type": "stream",
          "text": [
            "[0.87852053 0.86121479 0.89073634 0.89107567 0.90159484 0.90125551\n",
            " 0.90329148 0.90736342 0.90532745 0.90668476 0.9046488  0.90295215\n",
            " 0.90634544]\n"
          ],
          "name": "stdout"
        },
        {
          "output_type": "stream",
          "text": [
            "C:\\ProgramData\\Anaconda3\\lib\\site-packages\\ipykernel_launcher.py:6: DataConversionWarning: A column-vector y was passed when a 1d array was expected. Please change the shape of y to (n_samples, ), for example using ravel().\n",
            "  \n"
          ],
          "name": "stderr"
        },
        {
          "output_type": "stream",
          "text": [
            "[0.87852053 0.86121479 0.89073634 0.89107567 0.90159484 0.90125551\n",
            " 0.90329148 0.90736342 0.90532745 0.90668476 0.9046488  0.90295215\n",
            " 0.90634544 0.90363081]\n"
          ],
          "name": "stdout"
        },
        {
          "output_type": "stream",
          "text": [
            "C:\\ProgramData\\Anaconda3\\lib\\site-packages\\ipykernel_launcher.py:6: DataConversionWarning: A column-vector y was passed when a 1d array was expected. Please change the shape of y to (n_samples, ), for example using ravel().\n",
            "  \n"
          ],
          "name": "stderr"
        },
        {
          "output_type": "stream",
          "text": [
            "[0.87852053 0.86121479 0.89073634 0.89107567 0.90159484 0.90125551\n",
            " 0.90329148 0.90736342 0.90532745 0.90668476 0.9046488  0.90295215\n",
            " 0.90634544 0.90363081 0.90430947]\n"
          ],
          "name": "stdout"
        },
        {
          "output_type": "stream",
          "text": [
            "C:\\ProgramData\\Anaconda3\\lib\\site-packages\\ipykernel_launcher.py:6: DataConversionWarning: A column-vector y was passed when a 1d array was expected. Please change the shape of y to (n_samples, ), for example using ravel().\n",
            "  \n"
          ],
          "name": "stderr"
        },
        {
          "output_type": "stream",
          "text": [
            "[0.87852053 0.86121479 0.89073634 0.89107567 0.90159484 0.90125551\n",
            " 0.90329148 0.90736342 0.90532745 0.90668476 0.9046488  0.90295215\n",
            " 0.90634544 0.90363081 0.90430947 0.90600611]\n"
          ],
          "name": "stdout"
        },
        {
          "output_type": "stream",
          "text": [
            "C:\\ProgramData\\Anaconda3\\lib\\site-packages\\ipykernel_launcher.py:6: DataConversionWarning: A column-vector y was passed when a 1d array was expected. Please change the shape of y to (n_samples, ), for example using ravel().\n",
            "  \n"
          ],
          "name": "stderr"
        },
        {
          "output_type": "stream",
          "text": [
            "[0.87852053 0.86121479 0.89073634 0.89107567 0.90159484 0.90125551\n",
            " 0.90329148 0.90736342 0.90532745 0.90668476 0.9046488  0.90295215\n",
            " 0.90634544 0.90363081 0.90430947 0.90600611 0.90532745]\n"
          ],
          "name": "stdout"
        },
        {
          "output_type": "stream",
          "text": [
            "C:\\ProgramData\\Anaconda3\\lib\\site-packages\\ipykernel_launcher.py:6: DataConversionWarning: A column-vector y was passed when a 1d array was expected. Please change the shape of y to (n_samples, ), for example using ravel().\n",
            "  \n"
          ],
          "name": "stderr"
        },
        {
          "output_type": "stream",
          "text": [
            "[0.87852053 0.86121479 0.89073634 0.89107567 0.90159484 0.90125551\n",
            " 0.90329148 0.90736342 0.90532745 0.90668476 0.9046488  0.90295215\n",
            " 0.90634544 0.90363081 0.90430947 0.90600611 0.90532745 0.90566678]\n"
          ],
          "name": "stdout"
        },
        {
          "output_type": "stream",
          "text": [
            "C:\\ProgramData\\Anaconda3\\lib\\site-packages\\ipykernel_launcher.py:6: DataConversionWarning: A column-vector y was passed when a 1d array was expected. Please change the shape of y to (n_samples, ), for example using ravel().\n",
            "  \n"
          ],
          "name": "stderr"
        },
        {
          "output_type": "stream",
          "text": [
            "[0.87852053 0.86121479 0.89073634 0.89107567 0.90159484 0.90125551\n",
            " 0.90329148 0.90736342 0.90532745 0.90668476 0.9046488  0.90295215\n",
            " 0.90634544 0.90363081 0.90430947 0.90600611 0.90532745 0.90566678\n",
            " 0.90600611]\n"
          ],
          "name": "stdout"
        },
        {
          "output_type": "stream",
          "text": [
            "C:\\ProgramData\\Anaconda3\\lib\\site-packages\\ipykernel_launcher.py:6: DataConversionWarning: A column-vector y was passed when a 1d array was expected. Please change the shape of y to (n_samples, ), for example using ravel().\n",
            "  \n"
          ],
          "name": "stderr"
        },
        {
          "output_type": "stream",
          "text": [
            "[0.87852053 0.86121479 0.89073634 0.89107567 0.90159484 0.90125551\n",
            " 0.90329148 0.90736342 0.90532745 0.90668476 0.9046488  0.90295215\n",
            " 0.90634544 0.90363081 0.90430947 0.90600611 0.90532745 0.90566678\n",
            " 0.90600611 0.9046488 ]\n"
          ],
          "name": "stdout"
        },
        {
          "output_type": "stream",
          "text": [
            "C:\\ProgramData\\Anaconda3\\lib\\site-packages\\ipykernel_launcher.py:6: DataConversionWarning: A column-vector y was passed when a 1d array was expected. Please change the shape of y to (n_samples, ), for example using ravel().\n",
            "  \n"
          ],
          "name": "stderr"
        },
        {
          "output_type": "stream",
          "text": [
            "[0.87852053 0.86121479 0.89073634 0.89107567 0.90159484 0.90125551\n",
            " 0.90329148 0.90736342 0.90532745 0.90668476 0.9046488  0.90295215\n",
            " 0.90634544 0.90363081 0.90430947 0.90600611 0.90532745 0.90566678\n",
            " 0.90600611 0.9046488  0.9046488 ]\n"
          ],
          "name": "stdout"
        },
        {
          "output_type": "stream",
          "text": [
            "C:\\ProgramData\\Anaconda3\\lib\\site-packages\\ipykernel_launcher.py:6: DataConversionWarning: A column-vector y was passed when a 1d array was expected. Please change the shape of y to (n_samples, ), for example using ravel().\n",
            "  \n"
          ],
          "name": "stderr"
        },
        {
          "output_type": "stream",
          "text": [
            "[0.87852053 0.86121479 0.89073634 0.89107567 0.90159484 0.90125551\n",
            " 0.90329148 0.90736342 0.90532745 0.90668476 0.9046488  0.90295215\n",
            " 0.90634544 0.90363081 0.90430947 0.90600611 0.90532745 0.90566678\n",
            " 0.90600611 0.9046488  0.9046488  0.90295215]\n"
          ],
          "name": "stdout"
        },
        {
          "output_type": "stream",
          "text": [
            "C:\\ProgramData\\Anaconda3\\lib\\site-packages\\ipykernel_launcher.py:6: DataConversionWarning: A column-vector y was passed when a 1d array was expected. Please change the shape of y to (n_samples, ), for example using ravel().\n",
            "  \n"
          ],
          "name": "stderr"
        },
        {
          "output_type": "stream",
          "text": [
            "[0.87852053 0.86121479 0.89073634 0.89107567 0.90159484 0.90125551\n",
            " 0.90329148 0.90736342 0.90532745 0.90668476 0.9046488  0.90295215\n",
            " 0.90634544 0.90363081 0.90430947 0.90600611 0.90532745 0.90566678\n",
            " 0.90600611 0.9046488  0.9046488  0.90295215 0.90397014]\n"
          ],
          "name": "stdout"
        },
        {
          "output_type": "stream",
          "text": [
            "C:\\ProgramData\\Anaconda3\\lib\\site-packages\\ipykernel_launcher.py:6: DataConversionWarning: A column-vector y was passed when a 1d array was expected. Please change the shape of y to (n_samples, ), for example using ravel().\n",
            "  \n"
          ],
          "name": "stderr"
        },
        {
          "output_type": "stream",
          "text": [
            "[0.87852053 0.86121479 0.89073634 0.89107567 0.90159484 0.90125551\n",
            " 0.90329148 0.90736342 0.90532745 0.90668476 0.9046488  0.90295215\n",
            " 0.90634544 0.90363081 0.90430947 0.90600611 0.90532745 0.90566678\n",
            " 0.90600611 0.9046488  0.9046488  0.90295215 0.90397014 0.9022735 ]\n"
          ],
          "name": "stdout"
        },
        {
          "output_type": "stream",
          "text": [
            "C:\\ProgramData\\Anaconda3\\lib\\site-packages\\ipykernel_launcher.py:6: DataConversionWarning: A column-vector y was passed when a 1d array was expected. Please change the shape of y to (n_samples, ), for example using ravel().\n",
            "  \n"
          ],
          "name": "stderr"
        },
        {
          "output_type": "stream",
          "text": [
            "[0.87852053 0.86121479 0.89073634 0.89107567 0.90159484 0.90125551\n",
            " 0.90329148 0.90736342 0.90532745 0.90668476 0.9046488  0.90295215\n",
            " 0.90634544 0.90363081 0.90430947 0.90600611 0.90532745 0.90566678\n",
            " 0.90600611 0.9046488  0.9046488  0.90295215 0.90397014 0.9022735\n",
            " 0.90261283]\n"
          ],
          "name": "stdout"
        },
        {
          "output_type": "stream",
          "text": [
            "C:\\ProgramData\\Anaconda3\\lib\\site-packages\\ipykernel_launcher.py:6: DataConversionWarning: A column-vector y was passed when a 1d array was expected. Please change the shape of y to (n_samples, ), for example using ravel().\n",
            "  \n"
          ],
          "name": "stderr"
        },
        {
          "output_type": "stream",
          "text": [
            "[0.87852053 0.86121479 0.89073634 0.89107567 0.90159484 0.90125551\n",
            " 0.90329148 0.90736342 0.90532745 0.90668476 0.9046488  0.90295215\n",
            " 0.90634544 0.90363081 0.90430947 0.90600611 0.90532745 0.90566678\n",
            " 0.90600611 0.9046488  0.9046488  0.90295215 0.90397014 0.9022735\n",
            " 0.90261283 0.90125551]\n"
          ],
          "name": "stdout"
        },
        {
          "output_type": "stream",
          "text": [
            "C:\\ProgramData\\Anaconda3\\lib\\site-packages\\ipykernel_launcher.py:6: DataConversionWarning: A column-vector y was passed when a 1d array was expected. Please change the shape of y to (n_samples, ), for example using ravel().\n",
            "  \n"
          ],
          "name": "stderr"
        },
        {
          "output_type": "stream",
          "text": [
            "[0.87852053 0.86121479 0.89073634 0.89107567 0.90159484 0.90125551\n",
            " 0.90329148 0.90736342 0.90532745 0.90668476 0.9046488  0.90295215\n",
            " 0.90634544 0.90363081 0.90430947 0.90600611 0.90532745 0.90566678\n",
            " 0.90600611 0.9046488  0.9046488  0.90295215 0.90397014 0.9022735\n",
            " 0.90261283 0.90125551 0.89921955]\n"
          ],
          "name": "stdout"
        },
        {
          "output_type": "stream",
          "text": [
            "C:\\ProgramData\\Anaconda3\\lib\\site-packages\\ipykernel_launcher.py:6: DataConversionWarning: A column-vector y was passed when a 1d array was expected. Please change the shape of y to (n_samples, ), for example using ravel().\n",
            "  \n"
          ],
          "name": "stderr"
        },
        {
          "output_type": "stream",
          "text": [
            "[0.87852053 0.86121479 0.89073634 0.89107567 0.90159484 0.90125551\n",
            " 0.90329148 0.90736342 0.90532745 0.90668476 0.9046488  0.90295215\n",
            " 0.90634544 0.90363081 0.90430947 0.90600611 0.90532745 0.90566678\n",
            " 0.90600611 0.9046488  0.9046488  0.90295215 0.90397014 0.9022735\n",
            " 0.90261283 0.90125551 0.89921955 0.89820156]\n"
          ],
          "name": "stdout"
        },
        {
          "output_type": "stream",
          "text": [
            "C:\\ProgramData\\Anaconda3\\lib\\site-packages\\ipykernel_launcher.py:6: DataConversionWarning: A column-vector y was passed when a 1d array was expected. Please change the shape of y to (n_samples, ), for example using ravel().\n",
            "  \n"
          ],
          "name": "stderr"
        },
        {
          "output_type": "stream",
          "text": [
            "[0.87852053 0.86121479 0.89073634 0.89107567 0.90159484 0.90125551\n",
            " 0.90329148 0.90736342 0.90532745 0.90668476 0.9046488  0.90295215\n",
            " 0.90634544 0.90363081 0.90430947 0.90600611 0.90532745 0.90566678\n",
            " 0.90600611 0.9046488  0.9046488  0.90295215 0.90397014 0.9022735\n",
            " 0.90261283 0.90125551 0.89921955 0.89820156 0.89718358]\n"
          ],
          "name": "stdout"
        },
        {
          "output_type": "stream",
          "text": [
            "C:\\ProgramData\\Anaconda3\\lib\\site-packages\\ipykernel_launcher.py:6: DataConversionWarning: A column-vector y was passed when a 1d array was expected. Please change the shape of y to (n_samples, ), for example using ravel().\n",
            "  \n"
          ],
          "name": "stderr"
        },
        {
          "output_type": "stream",
          "text": [
            "[0.87852053 0.86121479 0.89073634 0.89107567 0.90159484 0.90125551\n",
            " 0.90329148 0.90736342 0.90532745 0.90668476 0.9046488  0.90295215\n",
            " 0.90634544 0.90363081 0.90430947 0.90600611 0.90532745 0.90566678\n",
            " 0.90600611 0.9046488  0.9046488  0.90295215 0.90397014 0.9022735\n",
            " 0.90261283 0.90125551 0.89921955 0.89820156 0.89718358 0.89921955]\n"
          ],
          "name": "stdout"
        },
        {
          "output_type": "stream",
          "text": [
            "C:\\ProgramData\\Anaconda3\\lib\\site-packages\\ipykernel_launcher.py:6: DataConversionWarning: A column-vector y was passed when a 1d array was expected. Please change the shape of y to (n_samples, ), for example using ravel().\n",
            "  \n"
          ],
          "name": "stderr"
        },
        {
          "output_type": "stream",
          "text": [
            "[0.87852053 0.86121479 0.89073634 0.89107567 0.90159484 0.90125551\n",
            " 0.90329148 0.90736342 0.90532745 0.90668476 0.9046488  0.90295215\n",
            " 0.90634544 0.90363081 0.90430947 0.90600611 0.90532745 0.90566678\n",
            " 0.90600611 0.9046488  0.9046488  0.90295215 0.90397014 0.9022735\n",
            " 0.90261283 0.90125551 0.89921955 0.89820156 0.89718358 0.89921955\n",
            " 0.90091619]\n"
          ],
          "name": "stdout"
        },
        {
          "output_type": "stream",
          "text": [
            "C:\\ProgramData\\Anaconda3\\lib\\site-packages\\ipykernel_launcher.py:6: DataConversionWarning: A column-vector y was passed when a 1d array was expected. Please change the shape of y to (n_samples, ), for example using ravel().\n",
            "  \n"
          ],
          "name": "stderr"
        },
        {
          "output_type": "stream",
          "text": [
            "[0.87852053 0.86121479 0.89073634 0.89107567 0.90159484 0.90125551\n",
            " 0.90329148 0.90736342 0.90532745 0.90668476 0.9046488  0.90295215\n",
            " 0.90634544 0.90363081 0.90430947 0.90600611 0.90532745 0.90566678\n",
            " 0.90600611 0.9046488  0.9046488  0.90295215 0.90397014 0.9022735\n",
            " 0.90261283 0.90125551 0.89921955 0.89820156 0.89718358 0.89921955\n",
            " 0.90091619 0.89718358]\n"
          ],
          "name": "stdout"
        },
        {
          "output_type": "stream",
          "text": [
            "C:\\ProgramData\\Anaconda3\\lib\\site-packages\\ipykernel_launcher.py:6: DataConversionWarning: A column-vector y was passed when a 1d array was expected. Please change the shape of y to (n_samples, ), for example using ravel().\n",
            "  \n"
          ],
          "name": "stderr"
        },
        {
          "output_type": "stream",
          "text": [
            "[0.87852053 0.86121479 0.89073634 0.89107567 0.90159484 0.90125551\n",
            " 0.90329148 0.90736342 0.90532745 0.90668476 0.9046488  0.90295215\n",
            " 0.90634544 0.90363081 0.90430947 0.90600611 0.90532745 0.90566678\n",
            " 0.90600611 0.9046488  0.9046488  0.90295215 0.90397014 0.9022735\n",
            " 0.90261283 0.90125551 0.89921955 0.89820156 0.89718358 0.89921955\n",
            " 0.90091619 0.89718358 0.89718358]\n"
          ],
          "name": "stdout"
        },
        {
          "output_type": "stream",
          "text": [
            "C:\\ProgramData\\Anaconda3\\lib\\site-packages\\ipykernel_launcher.py:6: DataConversionWarning: A column-vector y was passed when a 1d array was expected. Please change the shape of y to (n_samples, ), for example using ravel().\n",
            "  \n"
          ],
          "name": "stderr"
        },
        {
          "output_type": "stream",
          "text": [
            "[0.87852053 0.86121479 0.89073634 0.89107567 0.90159484 0.90125551\n",
            " 0.90329148 0.90736342 0.90532745 0.90668476 0.9046488  0.90295215\n",
            " 0.90634544 0.90363081 0.90430947 0.90600611 0.90532745 0.90566678\n",
            " 0.90600611 0.9046488  0.9046488  0.90295215 0.90397014 0.9022735\n",
            " 0.90261283 0.90125551 0.89921955 0.89820156 0.89718358 0.89921955\n",
            " 0.90091619 0.89718358 0.89718358 0.89582626]\n"
          ],
          "name": "stdout"
        },
        {
          "output_type": "stream",
          "text": [
            "C:\\ProgramData\\Anaconda3\\lib\\site-packages\\ipykernel_launcher.py:6: DataConversionWarning: A column-vector y was passed when a 1d array was expected. Please change the shape of y to (n_samples, ), for example using ravel().\n",
            "  \n"
          ],
          "name": "stderr"
        },
        {
          "output_type": "stream",
          "text": [
            "[0.87852053 0.86121479 0.89073634 0.89107567 0.90159484 0.90125551\n",
            " 0.90329148 0.90736342 0.90532745 0.90668476 0.9046488  0.90295215\n",
            " 0.90634544 0.90363081 0.90430947 0.90600611 0.90532745 0.90566678\n",
            " 0.90600611 0.9046488  0.9046488  0.90295215 0.90397014 0.9022735\n",
            " 0.90261283 0.90125551 0.89921955 0.89820156 0.89718358 0.89921955\n",
            " 0.90091619 0.89718358 0.89718358 0.89582626 0.89718358]\n"
          ],
          "name": "stdout"
        },
        {
          "output_type": "stream",
          "text": [
            "C:\\ProgramData\\Anaconda3\\lib\\site-packages\\ipykernel_launcher.py:6: DataConversionWarning: A column-vector y was passed when a 1d array was expected. Please change the shape of y to (n_samples, ), for example using ravel().\n",
            "  \n"
          ],
          "name": "stderr"
        },
        {
          "output_type": "stream",
          "text": [
            "[0.87852053 0.86121479 0.89073634 0.89107567 0.90159484 0.90125551\n",
            " 0.90329148 0.90736342 0.90532745 0.90668476 0.9046488  0.90295215\n",
            " 0.90634544 0.90363081 0.90430947 0.90600611 0.90532745 0.90566678\n",
            " 0.90600611 0.9046488  0.9046488  0.90295215 0.90397014 0.9022735\n",
            " 0.90261283 0.90125551 0.89921955 0.89820156 0.89718358 0.89921955\n",
            " 0.90091619 0.89718358 0.89718358 0.89582626 0.89718358 0.89650492]\n"
          ],
          "name": "stdout"
        },
        {
          "output_type": "stream",
          "text": [
            "C:\\ProgramData\\Anaconda3\\lib\\site-packages\\ipykernel_launcher.py:6: DataConversionWarning: A column-vector y was passed when a 1d array was expected. Please change the shape of y to (n_samples, ), for example using ravel().\n",
            "  \n"
          ],
          "name": "stderr"
        },
        {
          "output_type": "stream",
          "text": [
            "[0.87852053 0.86121479 0.89073634 0.89107567 0.90159484 0.90125551\n",
            " 0.90329148 0.90736342 0.90532745 0.90668476 0.9046488  0.90295215\n",
            " 0.90634544 0.90363081 0.90430947 0.90600611 0.90532745 0.90566678\n",
            " 0.90600611 0.9046488  0.9046488  0.90295215 0.90397014 0.9022735\n",
            " 0.90261283 0.90125551 0.89921955 0.89820156 0.89718358 0.89921955\n",
            " 0.90091619 0.89718358 0.89718358 0.89582626 0.89718358 0.89650492\n",
            " 0.89650492]\n"
          ],
          "name": "stdout"
        },
        {
          "output_type": "stream",
          "text": [
            "C:\\ProgramData\\Anaconda3\\lib\\site-packages\\ipykernel_launcher.py:6: DataConversionWarning: A column-vector y was passed when a 1d array was expected. Please change the shape of y to (n_samples, ), for example using ravel().\n",
            "  \n"
          ],
          "name": "stderr"
        },
        {
          "output_type": "stream",
          "text": [
            "[0.87852053 0.86121479 0.89073634 0.89107567 0.90159484 0.90125551\n",
            " 0.90329148 0.90736342 0.90532745 0.90668476 0.9046488  0.90295215\n",
            " 0.90634544 0.90363081 0.90430947 0.90600611 0.90532745 0.90566678\n",
            " 0.90600611 0.9046488  0.9046488  0.90295215 0.90397014 0.9022735\n",
            " 0.90261283 0.90125551 0.89921955 0.89820156 0.89718358 0.89921955\n",
            " 0.90091619 0.89718358 0.89718358 0.89582626 0.89718358 0.89650492\n",
            " 0.89650492 0.89650492]\n"
          ],
          "name": "stdout"
        },
        {
          "output_type": "stream",
          "text": [
            "C:\\ProgramData\\Anaconda3\\lib\\site-packages\\ipykernel_launcher.py:6: DataConversionWarning: A column-vector y was passed when a 1d array was expected. Please change the shape of y to (n_samples, ), for example using ravel().\n",
            "  \n"
          ],
          "name": "stderr"
        },
        {
          "output_type": "stream",
          "text": [
            "[0.87852053 0.86121479 0.89073634 0.89107567 0.90159484 0.90125551\n",
            " 0.90329148 0.90736342 0.90532745 0.90668476 0.9046488  0.90295215\n",
            " 0.90634544 0.90363081 0.90430947 0.90600611 0.90532745 0.90566678\n",
            " 0.90600611 0.9046488  0.9046488  0.90295215 0.90397014 0.9022735\n",
            " 0.90261283 0.90125551 0.89921955 0.89820156 0.89718358 0.89921955\n",
            " 0.90091619 0.89718358 0.89718358 0.89582626 0.89718358 0.89650492\n",
            " 0.89650492 0.89650492 0.89480828]\n"
          ],
          "name": "stdout"
        },
        {
          "output_type": "stream",
          "text": [
            "C:\\ProgramData\\Anaconda3\\lib\\site-packages\\ipykernel_launcher.py:6: DataConversionWarning: A column-vector y was passed when a 1d array was expected. Please change the shape of y to (n_samples, ), for example using ravel().\n",
            "  \n"
          ],
          "name": "stderr"
        },
        {
          "output_type": "stream",
          "text": [
            "[0.87852053 0.86121479 0.89073634 0.89107567 0.90159484 0.90125551\n",
            " 0.90329148 0.90736342 0.90532745 0.90668476 0.9046488  0.90295215\n",
            " 0.90634544 0.90363081 0.90430947 0.90600611 0.90532745 0.90566678\n",
            " 0.90600611 0.9046488  0.9046488  0.90295215 0.90397014 0.9022735\n",
            " 0.90261283 0.90125551 0.89921955 0.89820156 0.89718358 0.89921955\n",
            " 0.90091619 0.89718358 0.89718358 0.89582626 0.89718358 0.89650492\n",
            " 0.89650492 0.89650492 0.89480828 0.89650492]\n"
          ],
          "name": "stdout"
        },
        {
          "output_type": "stream",
          "text": [
            "C:\\ProgramData\\Anaconda3\\lib\\site-packages\\ipykernel_launcher.py:6: DataConversionWarning: A column-vector y was passed when a 1d array was expected. Please change the shape of y to (n_samples, ), for example using ravel().\n",
            "  \n"
          ],
          "name": "stderr"
        },
        {
          "output_type": "stream",
          "text": [
            "[0.87852053 0.86121479 0.89073634 0.89107567 0.90159484 0.90125551\n",
            " 0.90329148 0.90736342 0.90532745 0.90668476 0.9046488  0.90295215\n",
            " 0.90634544 0.90363081 0.90430947 0.90600611 0.90532745 0.90566678\n",
            " 0.90600611 0.9046488  0.9046488  0.90295215 0.90397014 0.9022735\n",
            " 0.90261283 0.90125551 0.89921955 0.89820156 0.89718358 0.89921955\n",
            " 0.90091619 0.89718358 0.89718358 0.89582626 0.89718358 0.89650492\n",
            " 0.89650492 0.89650492 0.89480828 0.89650492 0.89582626]\n"
          ],
          "name": "stdout"
        },
        {
          "output_type": "stream",
          "text": [
            "C:\\ProgramData\\Anaconda3\\lib\\site-packages\\ipykernel_launcher.py:6: DataConversionWarning: A column-vector y was passed when a 1d array was expected. Please change the shape of y to (n_samples, ), for example using ravel().\n",
            "  \n"
          ],
          "name": "stderr"
        },
        {
          "output_type": "stream",
          "text": [
            "[0.87852053 0.86121479 0.89073634 0.89107567 0.90159484 0.90125551\n",
            " 0.90329148 0.90736342 0.90532745 0.90668476 0.9046488  0.90295215\n",
            " 0.90634544 0.90363081 0.90430947 0.90600611 0.90532745 0.90566678\n",
            " 0.90600611 0.9046488  0.9046488  0.90295215 0.90397014 0.9022735\n",
            " 0.90261283 0.90125551 0.89921955 0.89820156 0.89718358 0.89921955\n",
            " 0.90091619 0.89718358 0.89718358 0.89582626 0.89718358 0.89650492\n",
            " 0.89650492 0.89650492 0.89480828 0.89650492 0.89582626 0.8975229 ]\n"
          ],
          "name": "stdout"
        },
        {
          "output_type": "stream",
          "text": [
            "C:\\ProgramData\\Anaconda3\\lib\\site-packages\\ipykernel_launcher.py:6: DataConversionWarning: A column-vector y was passed when a 1d array was expected. Please change the shape of y to (n_samples, ), for example using ravel().\n",
            "  \n"
          ],
          "name": "stderr"
        },
        {
          "output_type": "stream",
          "text": [
            "[0.87852053 0.86121479 0.89073634 0.89107567 0.90159484 0.90125551\n",
            " 0.90329148 0.90736342 0.90532745 0.90668476 0.9046488  0.90295215\n",
            " 0.90634544 0.90363081 0.90430947 0.90600611 0.90532745 0.90566678\n",
            " 0.90600611 0.9046488  0.9046488  0.90295215 0.90397014 0.9022735\n",
            " 0.90261283 0.90125551 0.89921955 0.89820156 0.89718358 0.89921955\n",
            " 0.90091619 0.89718358 0.89718358 0.89582626 0.89718358 0.89650492\n",
            " 0.89650492 0.89650492 0.89480828 0.89650492 0.89582626 0.8975229\n",
            " 0.89616559]\n"
          ],
          "name": "stdout"
        },
        {
          "output_type": "stream",
          "text": [
            "C:\\ProgramData\\Anaconda3\\lib\\site-packages\\ipykernel_launcher.py:6: DataConversionWarning: A column-vector y was passed when a 1d array was expected. Please change the shape of y to (n_samples, ), for example using ravel().\n",
            "  \n"
          ],
          "name": "stderr"
        },
        {
          "output_type": "stream",
          "text": [
            "[0.87852053 0.86121479 0.89073634 0.89107567 0.90159484 0.90125551\n",
            " 0.90329148 0.90736342 0.90532745 0.90668476 0.9046488  0.90295215\n",
            " 0.90634544 0.90363081 0.90430947 0.90600611 0.90532745 0.90566678\n",
            " 0.90600611 0.9046488  0.9046488  0.90295215 0.90397014 0.9022735\n",
            " 0.90261283 0.90125551 0.89921955 0.89820156 0.89718358 0.89921955\n",
            " 0.90091619 0.89718358 0.89718358 0.89582626 0.89718358 0.89650492\n",
            " 0.89650492 0.89650492 0.89480828 0.89650492 0.89582626 0.8975229\n",
            " 0.89616559 0.89921955]\n"
          ],
          "name": "stdout"
        },
        {
          "output_type": "stream",
          "text": [
            "C:\\ProgramData\\Anaconda3\\lib\\site-packages\\ipykernel_launcher.py:6: DataConversionWarning: A column-vector y was passed when a 1d array was expected. Please change the shape of y to (n_samples, ), for example using ravel().\n",
            "  \n"
          ],
          "name": "stderr"
        },
        {
          "output_type": "stream",
          "text": [
            "[0.87852053 0.86121479 0.89073634 0.89107567 0.90159484 0.90125551\n",
            " 0.90329148 0.90736342 0.90532745 0.90668476 0.9046488  0.90295215\n",
            " 0.90634544 0.90363081 0.90430947 0.90600611 0.90532745 0.90566678\n",
            " 0.90600611 0.9046488  0.9046488  0.90295215 0.90397014 0.9022735\n",
            " 0.90261283 0.90125551 0.89921955 0.89820156 0.89718358 0.89921955\n",
            " 0.90091619 0.89718358 0.89718358 0.89582626 0.89718358 0.89650492\n",
            " 0.89650492 0.89650492 0.89480828 0.89650492 0.89582626 0.8975229\n",
            " 0.89616559 0.89921955 0.89650492]\n"
          ],
          "name": "stdout"
        },
        {
          "output_type": "stream",
          "text": [
            "C:\\ProgramData\\Anaconda3\\lib\\site-packages\\ipykernel_launcher.py:6: DataConversionWarning: A column-vector y was passed when a 1d array was expected. Please change the shape of y to (n_samples, ), for example using ravel().\n",
            "  \n"
          ],
          "name": "stderr"
        },
        {
          "output_type": "stream",
          "text": [
            "[0.87852053 0.86121479 0.89073634 0.89107567 0.90159484 0.90125551\n",
            " 0.90329148 0.90736342 0.90532745 0.90668476 0.9046488  0.90295215\n",
            " 0.90634544 0.90363081 0.90430947 0.90600611 0.90532745 0.90566678\n",
            " 0.90600611 0.9046488  0.9046488  0.90295215 0.90397014 0.9022735\n",
            " 0.90261283 0.90125551 0.89921955 0.89820156 0.89718358 0.89921955\n",
            " 0.90091619 0.89718358 0.89718358 0.89582626 0.89718358 0.89650492\n",
            " 0.89650492 0.89650492 0.89480828 0.89650492 0.89582626 0.8975229\n",
            " 0.89616559 0.89921955 0.89650492 0.89548694]\n"
          ],
          "name": "stdout"
        },
        {
          "output_type": "stream",
          "text": [
            "C:\\ProgramData\\Anaconda3\\lib\\site-packages\\ipykernel_launcher.py:6: DataConversionWarning: A column-vector y was passed when a 1d array was expected. Please change the shape of y to (n_samples, ), for example using ravel().\n",
            "  \n"
          ],
          "name": "stderr"
        },
        {
          "output_type": "stream",
          "text": [
            "[0.87852053 0.86121479 0.89073634 0.89107567 0.90159484 0.90125551\n",
            " 0.90329148 0.90736342 0.90532745 0.90668476 0.9046488  0.90295215\n",
            " 0.90634544 0.90363081 0.90430947 0.90600611 0.90532745 0.90566678\n",
            " 0.90600611 0.9046488  0.9046488  0.90295215 0.90397014 0.9022735\n",
            " 0.90261283 0.90125551 0.89921955 0.89820156 0.89718358 0.89921955\n",
            " 0.90091619 0.89718358 0.89718358 0.89582626 0.89718358 0.89650492\n",
            " 0.89650492 0.89650492 0.89480828 0.89650492 0.89582626 0.8975229\n",
            " 0.89616559 0.89921955 0.89650492 0.89548694 0.89514761]\n"
          ],
          "name": "stdout"
        },
        {
          "output_type": "stream",
          "text": [
            "C:\\ProgramData\\Anaconda3\\lib\\site-packages\\ipykernel_launcher.py:6: DataConversionWarning: A column-vector y was passed when a 1d array was expected. Please change the shape of y to (n_samples, ), for example using ravel().\n",
            "  \n"
          ],
          "name": "stderr"
        },
        {
          "output_type": "stream",
          "text": [
            "[0.87852053 0.86121479 0.89073634 0.89107567 0.90159484 0.90125551\n",
            " 0.90329148 0.90736342 0.90532745 0.90668476 0.9046488  0.90295215\n",
            " 0.90634544 0.90363081 0.90430947 0.90600611 0.90532745 0.90566678\n",
            " 0.90600611 0.9046488  0.9046488  0.90295215 0.90397014 0.9022735\n",
            " 0.90261283 0.90125551 0.89921955 0.89820156 0.89718358 0.89921955\n",
            " 0.90091619 0.89718358 0.89718358 0.89582626 0.89718358 0.89650492\n",
            " 0.89650492 0.89650492 0.89480828 0.89650492 0.89582626 0.8975229\n",
            " 0.89616559 0.89921955 0.89650492 0.89548694 0.89514761 0.89718358]\n"
          ],
          "name": "stdout"
        },
        {
          "output_type": "stream",
          "text": [
            "C:\\ProgramData\\Anaconda3\\lib\\site-packages\\ipykernel_launcher.py:6: DataConversionWarning: A column-vector y was passed when a 1d array was expected. Please change the shape of y to (n_samples, ), for example using ravel().\n",
            "  \n"
          ],
          "name": "stderr"
        },
        {
          "output_type": "stream",
          "text": [
            "[0.87852053 0.86121479 0.89073634 0.89107567 0.90159484 0.90125551\n",
            " 0.90329148 0.90736342 0.90532745 0.90668476 0.9046488  0.90295215\n",
            " 0.90634544 0.90363081 0.90430947 0.90600611 0.90532745 0.90566678\n",
            " 0.90600611 0.9046488  0.9046488  0.90295215 0.90397014 0.9022735\n",
            " 0.90261283 0.90125551 0.89921955 0.89820156 0.89718358 0.89921955\n",
            " 0.90091619 0.89718358 0.89718358 0.89582626 0.89718358 0.89650492\n",
            " 0.89650492 0.89650492 0.89480828 0.89650492 0.89582626 0.8975229\n",
            " 0.89616559 0.89921955 0.89650492 0.89548694 0.89514761 0.89718358\n",
            " 0.89582626]\n"
          ],
          "name": "stdout"
        }
      ]
    },
    {
      "cell_type": "code",
      "metadata": {
        "id": "xSCB-wLWmr6V",
        "colab_type": "code",
        "colab": {},
        "outputId": "720cd965-a445-4511-fd09-c109e771be38"
      },
      "source": [
        "plt.plot(k, Accuracy_knn)\n",
        "plt.show()\n",
        "print(\"Optimal K value is {}\".format(k[np.argmax(Accuracy_knn)]))\n",
        "print(\"Accuracy of Optimum K value is {}\".format(np.max(Accuracy_knn)))"
      ],
      "execution_count": null,
      "outputs": [
        {
          "output_type": "display_data",
          "data": {
            "image/png": "[encoded data removed]",
            "text/plain": [
              "<Figure size 432x288 with 1 Axes>"
            ]
          },
          "metadata": {
            "tags": [],
            "needs_background": "light"
          }
        },
        {
          "output_type": "stream",
          "text": [
            "Optimal K value is 8\n",
            "Accuracy of Optimum K value is 0.9073634204275535\n"
          ],
          "name": "stdout"
        }
      ]
    },
    {
      "cell_type": "code",
      "metadata": {
        "id": "NiE4WRgAmr6Y",
        "colab_type": "code",
        "colab": {},
        "outputId": "4d5fba34-0165-46eb-c4c0-3a353e6bd062"
      },
      "source": [
        "#Evaluating with best k value\n",
        "knn_1 = KNeighborsClassifier(n_neighbors=8)\n",
        "knn_1.fit(XTrain, yTrain)\n",
        "y_predict_knn = knn_1.predict(XTest)\n",
        "Accuracy_knn = accuracy_score(yTest, y_predict_knn)\n",
        "print(Accuracy_knn)"
      ],
      "execution_count": null,
      "outputs": [
        {
          "output_type": "stream",
          "text": [
            "C:\\ProgramData\\Anaconda3\\lib\\site-packages\\ipykernel_launcher.py:2: DataConversionWarning: A column-vector y was passed when a 1d array was expected. Please change the shape of y to (n_samples, ), for example using ravel().\n",
            "  \n"
          ],
          "name": "stderr"
        },
        {
          "output_type": "stream",
          "text": [
            "accuracy:  0.8958262639972854\n"
          ],
          "name": "stdout"
        }
      ]
    },
    {
      "cell_type": "code",
      "metadata": {
        "id": "09t3M9iemr6d",
        "colab_type": "code",
        "colab": {},
        "outputId": "0d5c9c0a-2285-4bd1-a794-a054a7d6d1ba"
      },
      "source": [
        "from sklearn.metrics import confusion_matrix\n",
        "confusion_matrix(yTest,predicted_knn)"
      ],
      "execution_count": null,
      "outputs": [
        {
          "output_type": "execute_result",
          "data": {
            "text/plain": [
              "array([[490,   0,   6,   0,   0,   0],\n",
              "       [ 40, 430,   1,   0,   0,   0],\n",
              "       [ 63,  44, 313,   0,   0,   0],\n",
              "       [  0,   4,   0, 373, 114,   0],\n",
              "       [  0,   0,   0,  32, 500,   0],\n",
              "       [  0,   0,   0,   2,   1, 534]], dtype=int64)"
            ]
          },
          "metadata": {
            "tags": []
          },
          "execution_count": 86
        }
      ]
    },
    {
      "cell_type": "code",
      "metadata": {
        "id": "xfmIrAR8mr6g",
        "colab_type": "code",
        "colab": {},
        "outputId": "af9241fe-ece9-4020-b839-c2ce880ea95e"
      },
      "source": [
        "from sklearn.metrics import f1_score \n",
        "f1_score(yTest, predicted_knn, average='weighted') \n",
        "\n"
      ],
      "execution_count": null,
      "outputs": [
        {
          "output_type": "execute_result",
          "data": {
            "text/plain": [
              "0.894362170159698"
            ]
          },
          "metadata": {
            "tags": []
          },
          "execution_count": 99
        }
      ]
    },
    {
      "cell_type": "markdown",
      "metadata": {
        "id": "BV2esT7Rmr6k",
        "colab_type": "text"
      },
      "source": [
        "# Part 3: Multiclass Logistic Regression with Elastic Net"
      ]
    },
    {
      "cell_type": "code",
      "metadata": {
        "id": "Rz2z8Uvbmr6l",
        "colab_type": "code",
        "colab": {},
        "outputId": "a23876ed-1592-4496-c838-096a89aeda7c"
      },
      "source": [
        "model_LR=SGDClassifier(penalty='elasticnet')\n",
        "parameters = {'alpha': [1e-4,3e-4,1e-3,3e-3, 1e-2,3e-2], 'l1_ratio': [0,0.15,0.5,0.7,1]}\n",
        "modelGrid_LR=GridSearchCV(model_LR,parameters,n_jobs=-1,cv=10,scoring='f1_macro')\n",
        "modelGrid_LR.fit(XTrain.as_matrix(),yTrain.as_matrix().ravel().T)"
      ],
      "execution_count": null,
      "outputs": [
        {
          "output_type": "stream",
          "text": [
            "C:\\ProgramData\\Anaconda3\\lib\\site-packages\\ipykernel_launcher.py:4: FutureWarning: Method .as_matrix will be removed in a future version. Use .values instead.\n",
            "  after removing the cwd from sys.path.\n",
            "C:\\ProgramData\\Anaconda3\\lib\\site-packages\\sklearn\\linear_model\\stochastic_gradient.py:166: FutureWarning: max_iter and tol parameters have been added in SGDClassifier in 0.19. If both are left unset, they default to max_iter=5 and tol=None. If tol is not None, max_iter defaults to max_iter=1000. From 0.21, default max_iter will be 1000, and default tol will be 1e-3.\n",
            "  FutureWarning)\n"
          ],
          "name": "stderr"
        },
        {
          "output_type": "execute_result",
          "data": {
            "text/plain": [
              "GridSearchCV(cv=10, error_score='raise-deprecating',\n",
              "       estimator=SGDClassifier(alpha=0.0001, average=False, class_weight=None,\n",
              "       early_stopping=False, epsilon=0.1, eta0=0.0, fit_intercept=True,\n",
              "       l1_ratio=0.15, learning_rate='optimal', loss='hinge', max_iter=None,\n",
              "       n_iter=None, n_iter_no_change=5, n_jobs=None, penalty='elasticnet',\n",
              "       power_t=0.5, random_state=None, shuffle=True, tol=None,\n",
              "       validation_fraction=0.1, verbose=0, warm_start=False),\n",
              "       fit_params=None, iid='warn', n_jobs=-1,\n",
              "       param_grid={'alpha': [0.0001, 0.0003, 0.001, 0.003, 0.01, 0.03], 'l1_ratio': [0, 0.15, 0.5, 0.7, 1]},\n",
              "       pre_dispatch='2*n_jobs', refit=True, return_train_score='warn',\n",
              "       scoring='f1_macro', verbose=0)"
            ]
          },
          "metadata": {
            "tags": []
          },
          "execution_count": 44
        }
      ]
    },
    {
      "cell_type": "code",
      "metadata": {
        "id": "H0mM9UO_mr6o",
        "colab_type": "code",
        "colab": {}
      },
      "source": [
        "ypred_LR=modelGrid_LR.predict(XTest)\n",
        "f1score_LR = f1_score(yTest,ypred_LR,average='macro')"
      ],
      "execution_count": null,
      "outputs": []
    },
    {
      "cell_type": "code",
      "metadata": {
        "id": "T3FZFi_dmr6s",
        "colab_type": "code",
        "colab": {},
        "outputId": "3e46838e-133b-4dc8-b70a-d1ef075bc9bc"
      },
      "source": [
        "print ('Best Parameters: '+ str(modelGrid_LR.best_params_))\n"
      ],
      "execution_count": null,
      "outputs": [
        {
          "output_type": "stream",
          "text": [
            "Best Parameters: {'alpha': 0.003, 'l1_ratio': 0.7}\n"
          ],
          "name": "stdout"
        }
      ]
    },
    {
      "cell_type": "code",
      "metadata": {
        "id": "EP8i6AD-mr6u",
        "colab_type": "code",
        "colab": {},
        "outputId": "bece21b5-3308-4cb3-aac6-5504acafe93b"
      },
      "source": [
        "fig = plt.figure()\n",
        "ax = fig.add_subplot(111, projection='3d')\n",
        "Y=parameters['l1_ratio']\n",
        "X=parameters['alpha']\n",
        "X, Y = np.meshgrid(X,Y)\n",
        "\n",
        "x=0\n",
        "obj=np.zeros([5,6])\n",
        "for i in range(0,5):\n",
        "    for j in range(0,6):\n",
        "        obj[i,j]=modelGrid_LR.cv_results_['mean_test_score'][x]\n",
        "        x=x+1\n",
        "        \n",
        "Z=obj    \n",
        "\n",
        "surf = ax.plot_surface(X,Y,Z, rstride=1, cstride=1, antialiased=True)\n",
        "\n",
        "\n",
        "ax.set_xlabel('alpha')\n",
        "ax.set_ylabel('l1-ratio')\n",
        "ax.set_zlabel('F1 Score')\n",
        "\n",
        "plt.show()"
      ],
      "execution_count": null,
      "outputs": [
        {
          "output_type": "display_data",
          "data": {
            "image/png": "[encoded data removed]",
            "text/plain": [
              "<Figure size 432x288 with 1 Axes>"
            ]
          },
          "metadata": {
            "tags": [],
            "needs_background": "light"
          }
        }
      ]
    },
    {
      "cell_type": "code",
      "metadata": {
        "id": "ovZXk3Vzmr6x",
        "colab_type": "code",
        "colab": {}
      },
      "source": [
        "The highest values of rating for  F1-score with respect to alpha and l1-ratio values are in the upper left corner of the plot \n",
        "around 0.90,which corresponds with high values of both alpha and l1 ratio.\n",
        "\n",
        "The lowest values of rating for  F1-score with respect to alpha and l1-ratio values are in the lower right corner of the plot \n",
        "around 1.030, which corresponds with low values of both alpha and  l1 Ratio."
      ],
      "execution_count": null,
      "outputs": []
    },
    {
      "cell_type": "code",
      "metadata": {
        "id": "VeDQPdV5mr60",
        "colab_type": "code",
        "colab": {},
        "outputId": "334494fa-3286-4c5e-b1e3-b8818ad23fef"
      },
      "source": [
        "model_1=SGDClassifier(alpha=0.003,l1_ratio=0.7, penalty='elasticnet')\n",
        "from sklearn import metrics\n",
        "model_1.fit(XTrain, yTrain)\n",
        "ypred_LR = model_1.predict(XTest)\n",
        "accuracy_1 = metrics.accuracy_score(yTest,ypred_LR)\n",
        "print(\"Accuracy is: {}\".format(accuracy_1))\n",
        "\n",
        "f1score_1 = metrics.f1_score(yTest,ypred_LR,average='macro')\n",
        "print(\"F1 score is: {}\".format(f1score_1))\n",
        "precision_score= metrics.precision_score(yTest, ypred_LR, average='weighted')\n",
        "print('Precision score is: {}'.format(precision_score))\n"
      ],
      "execution_count": null,
      "outputs": [
        {
          "output_type": "stream",
          "text": [
            "C:\\ProgramData\\Anaconda3\\lib\\site-packages\\sklearn\\linear_model\\stochastic_gradient.py:166: FutureWarning: max_iter and tol parameters have been added in SGDClassifier in 0.19. If both are left unset, they default to max_iter=5 and tol=None. If tol is not None, max_iter defaults to max_iter=1000. From 0.21, default max_iter will be 1000, and default tol will be 1e-3.\n",
            "  FutureWarning)\n",
            "C:\\ProgramData\\Anaconda3\\lib\\site-packages\\sklearn\\utils\\validation.py:761: DataConversionWarning: A column-vector y was passed when a 1d array was expected. Please change the shape of y to (n_samples, ), for example using ravel().\n",
            "  y = column_or_1d(y, warn=True)\n"
          ],
          "name": "stderr"
        },
        {
          "output_type": "stream",
          "text": [
            "Accuracy is: 0.9423142178486597\n",
            "F1 score is: 0.9423287463571333\n",
            "Precision score is: 0.9430580323916395\n"
          ],
          "name": "stdout"
        }
      ]
    },
    {
      "cell_type": "code",
      "metadata": {
        "id": "1N30S30Kmr63",
        "colab_type": "code",
        "colab": {},
        "outputId": "e10d8a2f-ce38-4b1e-d2e1-edff0ace854a"
      },
      "source": [
        "confusion_matrix= confusion_matrix(yTest,ypred_1)\n",
        "print(confusion_matrix)"
      ],
      "execution_count": null,
      "outputs": [
        {
          "output_type": "stream",
          "text": [
            "[[494   0   1   0   1   0]\n",
            " [  0 450  21   0   0   0]\n",
            " [  3   0 417   0   0   0]\n",
            " [  0   3   4 470  14   0]\n",
            " [  0   0   0  58 474   0]\n",
            " [  0   0   0   0   0 537]]\n"
          ],
          "name": "stdout"
        }
      ]
    },
    {
      "cell_type": "markdown",
      "metadata": {
        "id": "8a3VT1I5mr68",
        "colab_type": "text"
      },
      "source": [
        "# Part 4: Support Vector Machine (RBF Kernel)"
      ]
    },
    {
      "cell_type": "code",
      "metadata": {
        "id": "jGQcjimFmr68",
        "colab_type": "code",
        "colab": {},
        "outputId": "e197893c-c7c4-4df2-a408-563c908304be"
      },
      "source": [
        " from sklearn import svm\n",
        "model_SVM =  svm.SVC()\n",
        "parameters = {'gamma': [1e-3, 1e-4], 'C': [1, 10, 100, 1000], 'kernel': ['rbf']}\n",
        "modelGrid_SVM=GridSearchCV(model_SVM,parameters,n_jobs=-1,cv=10,scoring='precision_macro')\n",
        "modelGrid_SVM.fit(XTrain.as_matrix(),yTrain.as_matrix().ravel().T)"
      ],
      "execution_count": null,
      "outputs": [
        {
          "output_type": "stream",
          "text": [
            "C:\\ProgramData\\Anaconda3\\lib\\site-packages\\ipykernel_launcher.py:5: FutureWarning: Method .as_matrix will be removed in a future version. Use .values instead.\n",
            "  \"\"\"\n"
          ],
          "name": "stderr"
        },
        {
          "output_type": "execute_result",
          "data": {
            "text/plain": [
              "GridSearchCV(cv=10, error_score='raise-deprecating',\n",
              "       estimator=SVC(C=1.0, cache_size=200, class_weight=None, coef0=0.0,\n",
              "  decision_function_shape='ovr', degree=3, gamma='auto_deprecated',\n",
              "  kernel='rbf', max_iter=-1, probability=False, random_state=None,\n",
              "  shrinking=True, tol=0.001, verbose=False),\n",
              "       fit_params=None, iid='warn', n_jobs=-1,\n",
              "       param_grid={'gamma': [0.001, 0.0001], 'C': [1, 10, 100, 1000], 'kernel': ['rbf']},\n",
              "       pre_dispatch='2*n_jobs', refit=True, return_train_score='warn',\n",
              "       scoring='precision_macro', verbose=0)"
            ]
          },
          "metadata": {
            "tags": []
          },
          "execution_count": 107
        }
      ]
    },
    {
      "cell_type": "code",
      "metadata": {
        "id": "zS53UxWVmr6_",
        "colab_type": "code",
        "colab": {},
        "outputId": "10999584-4f06-498c-ee63-800ea09c2beb"
      },
      "source": [
        "print ('Best Parameters: '+ str(modelGrid_SVM.best_params_))\n"
      ],
      "execution_count": null,
      "outputs": [
        {
          "output_type": "stream",
          "text": [
            "Best Parameters: {'C': 1000, 'gamma': 0.001, 'kernel': 'rbf'}\n"
          ],
          "name": "stdout"
        }
      ]
    },
    {
      "cell_type": "code",
      "metadata": {
        "id": "nwE212qimr7G",
        "colab_type": "code",
        "colab": {},
        "outputId": "6c2635ae-f0f1-4a4b-eb78-149cf8852510"
      },
      "source": [
        "import numpy as np\n",
        "from mpl_toolkits.mplot3d import Axes3D  \n",
        "import matplotlib.pyplot as plt\n",
        "import random\n",
        "\n",
        "\n",
        "\n",
        "fig = plt.figure()\n",
        "ax = fig.add_subplot(111, projection='3d')\n",
        "Y=parameters['C']\n",
        "X=parameters['gamma']\n",
        "X, Y = np.meshgrid(X,Y)\n",
        "\n",
        "x=0\n",
        "obj=np.zeros([4,2])\n",
        "for i in range(0,4):\n",
        "    for j in range(0,2):\n",
        "        obj[i,j]=modelGrid_SVM.cv_results_['mean_test_score'][x]\n",
        "        x=x+1\n",
        "        \n",
        "Z=obj    \n",
        "\n",
        "surf = ax.plot_surface(X,Y,Z, rstride=1, cstride=1, antialiased=True)\n",
        "\n",
        "\n",
        "ax.set_xlabel('Gamma')\n",
        "ax.set_ylabel('C')\n",
        "ax.set_zlabel('f1 Score')\n",
        "\n",
        "plt.show()\n"
      ],
      "execution_count": null,
      "outputs": [
        {
          "output_type": "display_data",
          "data": {
            "image/png": "[encoded data removed]",
            "text/plain": [
              "<Figure size 432x288 with 1 Axes>"
            ]
          },
          "metadata": {
            "tags": [],
            "needs_background": "light"
          }
        }
      ]
    },
    {
      "cell_type": "code",
      "metadata": {
        "id": "dKreCMSUmr7J",
        "colab_type": "code",
        "colab": {}
      },
      "source": [
        "The highest values of rating for  F1-score with respect to alpha and l1-ratio values are in the upper left corner of the plot \n",
        "around 0.95,which corresponds with high values of both gamma and C.\n",
        "\n",
        "The lowest values of rating for  F1-score with respect to alpha and l1-ratio values are in the lower left corner of the plot \n",
        "around 0.0002, which corresponds with low values of both gamma and  C."
      ],
      "execution_count": null,
      "outputs": []
    },
    {
      "cell_type": "code",
      "metadata": {
        "id": "qdk0vu1kmr7L",
        "colab_type": "code",
        "colab": {},
        "outputId": "2165835e-0185-4812-c1a5-0ffe77b598f1"
      },
      "source": [
        "model_1=svm.SVC(gamma=0.001,C=1000, kernel='rbf')\n",
        "from sklearn import metrics\n",
        "model_1.fit(XTrain, yTrain)\n",
        "ypred_SVC = model_1.predict(XTest)\n",
        "accuracy_1 = metrics.accuracy_score(yTest,ypred_SVC)\n",
        "print(\"Accuracy is: {}\".format(accuracy_1))\n",
        "\n",
        "f1score_1 = metrics.f1_score(yTest,ypred_SVC,average='weighted')\n",
        "print(\"F1 score is: {}\".format(f1score_1))\n",
        "precisionscore= metrics.precision_score(yTest, ypred_SVC, average='macro')\n",
        "print('Precision score is: {}'.format(precisionscore))\n",
        "\n"
      ],
      "execution_count": null,
      "outputs": [
        {
          "output_type": "stream",
          "text": [
            "C:\\ProgramData\\Anaconda3\\lib\\site-packages\\sklearn\\utils\\validation.py:761: DataConversionWarning: A column-vector y was passed when a 1d array was expected. Please change the shape of y to (n_samples, ), for example using ravel().\n",
            "  y = column_or_1d(y, warn=True)\n"
          ],
          "name": "stderr"
        },
        {
          "output_type": "stream",
          "text": [
            "Accuracy is: 0.9657278588394977\n",
            "F1 score is: 0.9656245347276229\n",
            "Precision score is: 0.9677960968835116\n"
          ],
          "name": "stdout"
        }
      ]
    },
    {
      "cell_type": "code",
      "metadata": {
        "id": "08MSrLZLmr7O",
        "colab_type": "code",
        "colab": {},
        "outputId": "471593e2-2fa0-48d2-b563-0923e7da149e"
      },
      "source": [
        "Confusionmatrix_1 = metrics.confusion_matrix(yTest,ypred_1)\n",
        "print(Confusionmatrix_1)"
      ],
      "execution_count": null,
      "outputs": [
        {
          "output_type": "stream",
          "text": [
            "[[494   0   1   0   1   0]\n",
            " [  0 450  21   0   0   0]\n",
            " [  3   0 417   0   0   0]\n",
            " [  0   3   4 470  14   0]\n",
            " [  0   0   0  58 474   0]\n",
            " [  0   0   0   0   0 537]]\n"
          ],
          "name": "stdout"
        }
      ]
    },
    {
      "cell_type": "markdown",
      "metadata": {
        "id": "JNxmtLbhmr7R",
        "colab_type": "text"
      },
      "source": [
        "# Part 5: Random Forest"
      ]
    },
    {
      "cell_type": "code",
      "metadata": {
        "id": "W7LxlImCmr7R",
        "colab_type": "code",
        "colab": {},
        "outputId": "409c4a29-cba1-4438-8b89-6c1af1401830"
      },
      "source": [
        "from sklearn.model_selection import GridSearchCV\n",
        "model_RF =  RandomForestClassifier()\n",
        "parameters = {'n_estimators': [200, 500, 700], 'max_depth': [300, 500, 600]}\n",
        "modelGrid_RF=GridSearchCV(model_RF,parameters,n_jobs=-1,cv=10,scoring='precision_macro')\n",
        "modelGrid_RF.fit(XTrain.as_matrix(),yTrain.as_matrix().ravel().T)"
      ],
      "execution_count": null,
      "outputs": [
        {
          "output_type": "stream",
          "text": [
            "C:\\ProgramData\\Anaconda3\\lib\\site-packages\\ipykernel_launcher.py:5: FutureWarning: Method .as_matrix will be removed in a future version. Use .values instead.\n",
            "  \"\"\"\n"
          ],
          "name": "stderr"
        },
        {
          "output_type": "execute_result",
          "data": {
            "text/plain": [
              "GridSearchCV(cv=10, error_score='raise-deprecating',\n",
              "       estimator=RandomForestClassifier(bootstrap=True, class_weight=None, criterion='gini',\n",
              "            max_depth=None, max_features='auto', max_leaf_nodes=None,\n",
              "            min_impurity_decrease=0.0, min_impurity_split=None,\n",
              "            min_samples_leaf=1, min_samples_split=2,\n",
              "            min_weight_fraction_leaf=0.0, n_estimators='warn', n_jobs=None,\n",
              "            oob_score=False, random_state=None, verbose=0,\n",
              "            warm_start=False),\n",
              "       fit_params=None, iid='warn', n_jobs=-1,\n",
              "       param_grid={'n_estimators': [200, 500, 700], 'max_depth': [300, 500, 600]},\n",
              "       pre_dispatch='2*n_jobs', refit=True, return_train_score='warn',\n",
              "       scoring='precision_macro', verbose=0)"
            ]
          },
          "metadata": {
            "tags": []
          },
          "execution_count": 141
        }
      ]
    },
    {
      "cell_type": "code",
      "metadata": {
        "id": "3xXA44nmmr7U",
        "colab_type": "code",
        "colab": {},
        "outputId": "035d7f1f-270d-4e60-fc24-a99c03c4ebed"
      },
      "source": [
        "print ('Best Parameters: '+ str(modelGrid_RF.best_params_))\n"
      ],
      "execution_count": null,
      "outputs": [
        {
          "output_type": "stream",
          "text": [
            "Best Parameters: {'max_depth': 300, 'n_estimators': 500}\n"
          ],
          "name": "stdout"
        }
      ]
    },
    {
      "cell_type": "code",
      "metadata": {
        "id": "mwiq-jzJmr7X",
        "colab_type": "code",
        "colab": {},
        "outputId": "484d3ef4-d644-4552-bf35-b48de42575bb"
      },
      "source": [
        "fig = plt.figure()\n",
        "ax = fig.add_subplot(111, projection='3d')\n",
        "Y=parameters['n_estimators']\n",
        "X=parameters['max_depth']\n",
        "X, Y = np.meshgrid(X,Y)\n",
        "\n",
        "x=0\n",
        "obj=np.zeros([3,3])\n",
        "for i in range(0,3):\n",
        "    for j in range(0,3):\n",
        "        obj[i,j]=modelGrid_RF.cv_results_['mean_test_score'][x]\n",
        "        x=x+1\n",
        "        \n",
        "Z=obj    \n",
        "\n",
        "surf = ax.plot_surface(X,Y,Z, rstride=1, cstride=1, antialiased=True)\n",
        "\n",
        "\n",
        "ax.set_xlabel('n_estimators')\n",
        "ax.set_ylabel('max_depth')\n",
        "ax.set_zlabel('f1 Score')\n",
        "\n",
        "plt.show()"
      ],
      "execution_count": null,
      "outputs": [
        {
          "output_type": "display_data",
          "data": {
            "image/png": "[encoded data removed]",
            "text/plain": [
              "<Figure size 432x288 with 1 Axes>"
            ]
          },
          "metadata": {
            "tags": [],
            "needs_background": "light"
          }
        }
      ]
    },
    {
      "cell_type": "markdown",
      "metadata": {
        "id": "QdbMB6m5mr7Z",
        "colab_type": "text"
      },
      "source": [
        "The highest values of rating for  F1-score with respect to alpha and l1-ratio values are in the upper left corner of the plot \n",
        "around 0.946,which corresponds with high values of both n_estimators and max depth.\n",
        "\n",
        "The lowest values of rating for  F1-score with respect to alpha and l1-ratio values are in the lower right corner of the plot \n",
        "around 1.030, which corresponds with low values of both alpha and  l1 Ratio."
      ]
    },
    {
      "cell_type": "code",
      "metadata": {
        "id": "dvi9cfrOmr7a",
        "colab_type": "code",
        "colab": {},
        "outputId": "19e90cda-82da-4327-d890-eca56df05b80"
      },
      "source": [
        "model_1=RandomForestClassifier(n_estimators=500,max_depth=300)\n",
        "from sklearn import metrics\n",
        "model_1.fit(XTrain, yTrain)\n",
        "ypred_1 = model_1.predict(XTest)\n",
        "accuracy_1 = metrics.accuracy_score(yTest,ypred_1)\n",
        "print(\"Accuracy is: {}\".format(accuracy_1))\n",
        "\n",
        "f1score_1 = metrics.f1_score(yTest,ypred_1,average='weighted')\n",
        "print(\"F1 score is: {}\".format(f1score_1))\n",
        "precision_score_RF= metrics.precision_score(yTest, ypred_1, average='macro')\n",
        "print('Precision score is: {}'.format(precision_score_RF))\n",
        "\n"
      ],
      "execution_count": null,
      "outputs": [
        {
          "output_type": "stream",
          "text": [
            "C:\\ProgramData\\Anaconda3\\lib\\site-packages\\ipykernel_launcher.py:3: DataConversionWarning: A column-vector y was passed when a 1d array was expected. Please change the shape of y to (n_samples,), for example using ravel().\n",
            "  This is separate from the ipykernel package so we can avoid doing imports until\n"
          ],
          "name": "stderr"
        },
        {
          "output_type": "stream",
          "text": [
            "Accuracy is: 0.9287410926365796\n",
            "F1 score is: 0.9285001244104368\n",
            "Precision score is: 0.9296069613561039\n"
          ],
          "name": "stdout"
        }
      ]
    },
    {
      "cell_type": "code",
      "metadata": {
        "id": "Zbm507Xkmr7d",
        "colab_type": "code",
        "colab": {},
        "outputId": "291f0d0a-a4ff-4c02-9ef3-2e3d1cc9284f"
      },
      "source": [
        "#Confusion Matrix\n",
        "from sklearn.metrics import confusion_matrix\n",
        "Confusion_matrix = confusion_matrix(yTest,ypred_1)\n",
        "Confusion_matrix"
      ],
      "execution_count": null,
      "outputs": [
        {
          "output_type": "execute_result",
          "data": {
            "text/plain": [
              "array([[483,   5,   8,   0,   0,   0],\n",
              "       [ 34, 431,   6,   0,   0,   0],\n",
              "       [ 19,  44, 357,   0,   0,   0],\n",
              "       [  0,   0,   0, 441,  50,   0],\n",
              "       [  0,   0,   0,  44, 488,   0],\n",
              "       [  0,   0,   0,   0,   0, 537]], dtype=int64)"
            ]
          },
          "metadata": {
            "tags": []
          },
          "execution_count": 146
        }
      ]
    },
    {
      "cell_type": "markdown",
      "metadata": {
        "id": "f3dG2izUmr7g",
        "colab_type": "text"
      },
      "source": [
        "# Part 6: Discussion"
      ]
    },
    {
      "cell_type": "code",
      "metadata": {
        "id": "meUKj-7omr7h",
        "colab_type": "code",
        "colab": {}
      },
      "source": [
        "Support Vector machine algorithm is the best performance algorithm as it has the highest accuracy of 96% when compared to KNN (89%)\n",
        ",Logistic Regression(94%) and Random Forest(92%). SVM has more balanced boundaries between categories. \n",
        "SVM kernel ability to deal with high dimensional data set led to more accuracy.\n",
        "\n",
        "KNN algorithm is the poor algorithm when compared to other 3 algorithm as it has the least accuracy score of 89%.\n",
        "The higher the dimensionality of the data points the less reliable the KNN algorithm becomes. \n",
        "KNN performs better on low dimensional data.\n",
        "\n",
        "Few methods to improve are: 1. Increase the data size\n",
        "2. Preprocessing the data would increase the chance improving accuracy.\n",
        "3. Treating missing and outlier values\n",
        "4. Feature engineering and feature selection."
      ],
      "execution_count": null,
      "outputs": []
    }
  ]
}